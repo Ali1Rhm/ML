{
 "cells": [
  {
   "cell_type": "code",
   "execution_count": 85,
   "id": "6480580c-4d92-478e-9f58-613e2750a75c",
   "metadata": {},
   "outputs": [
    {
     "name": "stdout",
     "output_type": "stream",
     "text": [
      "show_id            0\n",
      "type               0\n",
      "title              0\n",
      "director        2634\n",
      "cast             825\n",
      "country          831\n",
      "date_added        10\n",
      "release_year       0\n",
      "rating             4\n",
      "duration           3\n",
      "listed_in          0\n",
      "description        0\n",
      "dtype: int64\n"
     ]
    }
   ],
   "source": [
    "import pandas as pd\n",
    "\n",
    "p_data = pd.read_csv('ML/netflix_movies.csv')\n",
    "\n",
    "# print(population_data.head())\n",
    "print(p_data.isnull().sum())"
   ]
  },
  {
   "cell_type": "code",
   "execution_count": 77,
   "id": "9f0e01f7-aa3e-4c3f-aa1e-020069b8053c",
   "metadata": {},
   "outputs": [
    {
     "name": "stdout",
     "output_type": "stream",
     "text": [
      "show_id         0\n",
      "type            0\n",
      "title           0\n",
      "director        0\n",
      "cast            0\n",
      "country         0\n",
      "date_added      0\n",
      "release_year    0\n",
      "rating          0\n",
      "duration        0\n",
      "listed_in       0\n",
      "description     0\n",
      "dtype: int64\n"
     ]
    }
   ],
   "source": [
    "p_data_cleaned = p_data.dropna(subset=['country', 'date_added', 'duration']).copy()\n",
    "\n",
    "rating_mode = p_data['rating'].mode(dropna=True)\n",
    "p_data_cleaned.fillna({'rating': rating_mode[0], 'cast': 'Unknown', 'director': 'Unknown'},\n",
    "                      inplace=True)\n",
    "\n",
    "print(p_data_cleaned.isnull().sum())"
   ]
  },
  {
   "cell_type": "code",
   "execution_count": 78,
   "id": "487dacb7-b5a8-4763-8efe-9fcc5ba617d8",
   "metadata": {},
   "outputs": [
    {
     "name": "stdout",
     "output_type": "stream",
     "text": [
      "type\n",
      "Movie      3545\n",
      "TV Show    1419\n",
      "Name: count, dtype: int64\n"
     ]
    }
   ],
   "source": [
    "from sklearn.model_selection import train_test_split\n",
    "\n",
    "s_data, _ = train_test_split(p_data_cleaned,\n",
    "                             test_size=3000,\n",
    "                             stratify=p_data_cleaned['type'],\n",
    "                             random_state=42)\n",
    "\n",
    "print(s_data['type'].value_counts())"
   ]
  }
 ],
 "metadata": {
  "kernelspec": {
   "display_name": "Python 3 (ipykernel)",
   "language": "python",
   "name": "python3"
  },
  "language_info": {
   "codemirror_mode": {
    "name": "ipython",
    "version": 3
   },
   "file_extension": ".py",
   "mimetype": "text/x-python",
   "name": "python",
   "nbconvert_exporter": "python",
   "pygments_lexer": "ipython3",
   "version": "3.13.0"
  }
 },
 "nbformat": 4,
 "nbformat_minor": 5
}
